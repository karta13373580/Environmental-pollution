{
 "cells": [
  {
   "cell_type": "code",
   "execution_count": 1,
   "metadata": {},
   "outputs": [],
   "source": [
    "import numpy as np\n",
    "import pandas as pd\n",
    "import matplotlib.pyplot as plt\n",
    "%matplotlib inline\n",
    "from sklearn import preprocessing"
   ]
  },
  {
   "cell_type": "code",
   "execution_count": 2,
   "metadata": {},
   "outputs": [
    {
     "data": {
      "text/plain": [
       "(319, 35)"
      ]
     },
     "execution_count": 2,
     "metadata": {},
     "output_type": "execute_result"
    }
   ],
   "source": [
    "data_train = pd.read_csv('train.csv',encoding='big5')\n",
    "data_train.shape\n",
    "#data_train.info()\n",
    "#data_train.columns"
   ]
  },
  {
   "cell_type": "code",
   "execution_count": 3,
   "metadata": {},
   "outputs": [
    {
     "data": {
      "text/plain": [
       "Index(['Station', 'Season', 'County', 'Location', 'Lat', 'Lon', '縣市', '海岸段',\n",
       "       'Region', 'Seat', 'Shore shape', 'Substrate type', '1暴露岩岸', '2暴露人造結構物',\n",
       "       '3暴露岩盤', '4沙灘', '5砂礫混合灘', '6礫石灘', '7開闊潮間帶', '8遮蔽岩岸', '9遮蔽潮間帶', '10遮蔽濕地',\n",
       "       'Plastic bottle container', 'Disposable cup / straw / tableware',\n",
       "       'Plastic bag', 'Foam material', 'Float', 'Fishing nets and ropes',\n",
       "       'Fishing equipment', 'Cigarette and lighter', 'Glass jar', 'Metal',\n",
       "       'Paper', 'Others', 'LEVEL', 'summer', 'winter', 'winter2'],\n",
       "      dtype='object')"
      ]
     },
     "execution_count": 3,
     "metadata": {},
     "output_type": "execute_result"
    }
   ],
   "source": [
    "summer = np.zeros((len(data_train),), dtype=int)\n",
    "winter=np.zeros((len(data_train),), dtype=int)\n",
    "winter2=np.zeros((len(data_train),),dtype=int)\n",
    "\n",
    "for index, row in data_train.iterrows():\n",
    "    if row[\"Season\"]==2:\n",
    "        if row['Region']>=3 and row['Region']<=5:\n",
    "            if row[\"Seat\"]>=4 and row[\"Seat\"]<=6:\n",
    "                summer[index]=1;\n",
    "    elif row[\"Season\"]==4:\n",
    "        if row['海岸段']==1 or row['海岸段']==2:\n",
    "            if row[\"Seat\"]==1 or row[\"Seat\"]==2 or row[\"Seat\"]==8:\n",
    "                winter[index]=1;\n",
    "        elif row['海岸段']>=3 and row['海岸段']<=5:\n",
    "            if row[\"Seat\"]>=4 and row[\"Seat\"]<=6:\n",
    "                winter2[index]=1;\n",
    "\n",
    "data_train['summer'] = summer\n",
    "data_train['winter'] = winter\n",
    "data_train['winter2']=winter2\n",
    "data_train.columns"
   ]
  },
  {
   "cell_type": "code",
   "execution_count": 4,
   "metadata": {},
   "outputs": [],
   "source": [
    "data_train.rename(columns={\"縣市\":'County_code'},inplace=True)\n",
    "X_train=data_train[['County_code','海岸段','Region','Seat','Shore shape','Substrate type'\n",
    "             ,'Plastic bottle container',\n",
    "              'Disposable cup / straw / tableware',\n",
    "              'Plastic bag'\n",
    "              ,'Foam material'\n",
    "              ,'Float'\n",
    "              ,'Fishing nets and ropes'                \n",
    "              ,'Fishing equipment'                    \n",
    "              ,'Cigarette and lighter'                 \n",
    "              ,'Glass jar'                      \n",
    "              ,'Metal'                                \n",
    "              ,'Paper'                               \n",
    "              ,'Others', 'summer', 'winter', 'winter2']]\n",
    "y_train=data_train[['LEVEL']]"
   ]
  },
  {
   "cell_type": "code",
   "execution_count": 5,
   "metadata": {},
   "outputs": [
    {
     "name": "stderr",
     "output_type": "stream",
     "text": [
      "C:\\Users\\20170507\\Anaconda3\\lib\\site-packages\\sklearn\\preprocessing\\label.py:219: DataConversionWarning: A column-vector y was passed when a 1d array was expected. Please change the shape of y to (n_samples, ), for example using ravel().\n",
      "  y = column_or_1d(y, warn=True)\n",
      "C:\\Users\\20170507\\Anaconda3\\lib\\site-packages\\sklearn\\preprocessing\\label.py:252: DataConversionWarning: A column-vector y was passed when a 1d array was expected. Please change the shape of y to (n_samples, ), for example using ravel().\n",
      "  y = column_or_1d(y, warn=True)\n"
     ]
    },
    {
     "data": {
      "text/plain": [
       "XGBClassifier(base_score=0.5, booster='gbtree', colsample_bylevel=1,\n",
       "              colsample_bynode=1, colsample_bytree=1, gamma=0,\n",
       "              learning_rate=0.1, max_delta_step=0, max_depth=3,\n",
       "              min_child_weight=1, missing=None, n_estimators=100, n_jobs=1,\n",
       "              nthread=None, objective='multi:softprob', random_state=0,\n",
       "              reg_alpha=0, reg_lambda=1, scale_pos_weight=1, seed=None,\n",
       "              silent=None, subsample=1, verbosity=1)"
      ]
     },
     "execution_count": 5,
     "metadata": {},
     "output_type": "execute_result"
    }
   ],
   "source": [
    "from xgboost import XGBClassifier\n",
    "xgbc=XGBClassifier()\n",
    "xgbc.fit(X_train,y_train)"
   ]
  },
  {
   "cell_type": "code",
   "execution_count": 6,
   "metadata": {},
   "outputs": [
    {
     "data": {
      "text/plain": [
       "(163, 34)"
      ]
     },
     "execution_count": 6,
     "metadata": {},
     "output_type": "execute_result"
    }
   ],
   "source": [
    "data_test=pd.read_csv(\"test.csv\",encoding='big5')\n",
    "data_test.shape"
   ]
  },
  {
   "cell_type": "code",
   "execution_count": 7,
   "metadata": {},
   "outputs": [
    {
     "data": {
      "text/plain": [
       "Index(['Station', 'Season', 'County', 'Location', 'Lat', 'Lon', '縣市', '海岸段',\n",
       "       'Region', 'Seat', 'Shore shape', 'Substrate type', '1暴露岩岸', '2暴露人造結構物',\n",
       "       '3暴露岩盤', '4沙灘', '5砂礫混合灘', '6礫石灘', '7開闊潮間帶', '8遮蔽岩岸', '9遮蔽潮間帶', '10遮蔽濕地',\n",
       "       'Plastic bottle container', 'Disposable cup / straw / tableware',\n",
       "       'Plastic bag', 'Foam material', 'Float', 'Fishing nets and ropes',\n",
       "       'Fishing equipment', 'Cigarette and lighter', 'Glass jar', 'Metal',\n",
       "       'Paper', 'Others', 'summer', 'winter', 'winter2'],\n",
       "      dtype='object')"
      ]
     },
     "execution_count": 7,
     "metadata": {},
     "output_type": "execute_result"
    }
   ],
   "source": [
    "summer = np.zeros((len(data_test),), dtype=int)\n",
    "winter=np.zeros((len(data_test),), dtype=int)\n",
    "winter2=np.zeros((len(data_test),),dtype=int)\n",
    "\n",
    "for index, row in data_test.iterrows():\n",
    "    if row[\"Season\"]==2:\n",
    "        if row['Region']>=3 and row['Region']<=5:\n",
    "            if row[\"Seat\"]>=4 and row[\"Seat\"]<=6:\n",
    "                summer[index]=1;\n",
    "    elif row[\"Season\"]==4:\n",
    "        if row['海岸段']==1 or row['海岸段']==2:\n",
    "            if row[\"Seat\"]==1 or row[\"Seat\"]==2 or row[\"Seat\"]==8:\n",
    "                winter[index]=1;\n",
    "        elif row['海岸段']>=3 and row['海岸段']<=5:\n",
    "            if row[\"Seat\"]>=4 and row[\"Seat\"]<=6:\n",
    "                winter2[index]=1;\n",
    "\n",
    "data_test['summer'] = summer\n",
    "data_test['winter'] = winter\n",
    "data_test['winter2']=winter2\n",
    "data_test.columns"
   ]
  },
  {
   "cell_type": "code",
   "execution_count": 8,
   "metadata": {},
   "outputs": [],
   "source": [
    "data_test.rename(columns={\"縣市\":'County_code'},inplace=True)\n",
    "X_test=data_test[['County_code','海岸段','Region','Seat','Shore shape','Substrate type'\n",
    "             ,'Plastic bottle container',\n",
    "              'Disposable cup / straw / tableware',\n",
    "              'Plastic bag'\n",
    "              ,'Foam material'\n",
    "              ,'Float'\n",
    "              ,'Fishing nets and ropes'                \n",
    "              ,'Fishing equipment'                    \n",
    "              ,'Cigarette and lighter'                 \n",
    "              ,'Glass jar'                      \n",
    "              ,'Metal'                                \n",
    "              ,'Paper'                               \n",
    "              ,'Others', 'summer', 'winter', 'winter2']]\n"
   ]
  },
  {
   "cell_type": "code",
   "execution_count": 9,
   "metadata": {},
   "outputs": [],
   "source": [
    "from sklearn.metrics import accuracy_score\n",
    "predict=xgbc.predict(X_test)\n",
    "dfout=pd.DataFrame(predict)\n",
    "dfout.to_csv('predictf.csv')"
   ]
  },
  {
   "cell_type": "code",
   "execution_count": null,
   "metadata": {},
   "outputs": [],
   "source": []
  }
 ],
 "metadata": {
  "kernelspec": {
   "display_name": "Python 3",
   "language": "python",
   "name": "python3"
  },
  "language_info": {
   "codemirror_mode": {
    "name": "ipython",
    "version": 3
   },
   "file_extension": ".py",
   "mimetype": "text/x-python",
   "name": "python",
   "nbconvert_exporter": "python",
   "pygments_lexer": "ipython3",
   "version": "3.7.3"
  }
 },
 "nbformat": 4,
 "nbformat_minor": 2
}
