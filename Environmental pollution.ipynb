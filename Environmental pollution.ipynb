{
 "cells": [
  {
   "cell_type": "code",
   "execution_count": 324,
   "metadata": {},
   "outputs": [],
   "source": [
    "import numpy as np\n",
    "import pandas as pd\n",
    "import matplotlib.pyplot as plt\n",
    "%matplotlib inline\n",
    "from sklearn import preprocessing"
   ]
  },
  {
   "cell_type": "code",
   "execution_count": 325,
   "metadata": {},
   "outputs": [
    {
     "data": {
      "text/plain": [
       "Index(['Station', 'Season', 'County', 'Location', 'Lat', 'Lon', '縣市', '海岸段',\n",
       "       'Region', 'Seat', 'Shore shape', 'Substrate type', '1暴露岩岸', '2暴露人造結構物',\n",
       "       '3暴露岩盤', '4沙灘', '5砂礫混合灘', '6礫石灘', '7開闊潮間帶', '8遮蔽岩岸', '9遮蔽潮間帶', '10遮蔽濕地',\n",
       "       'Plastic bottle container', 'Disposable cup / straw / tableware',\n",
       "       'Plastic bag', 'Foam material', 'Float', 'Fishing nets and ropes',\n",
       "       'Fishing equipment', 'Cigarette and lighter', 'Glass jar', 'Metal',\n",
       "       'Paper', 'Others', 'LEVEL'],\n",
       "      dtype='object')"
      ]
     },
     "execution_count": 325,
     "metadata": {},
     "output_type": "execute_result"
    }
   ],
   "source": [
    "data_train = pd.read_csv('data_train.csv',encoding='big5')\n",
    "data_train.shape\n",
    "#data_train.info()\n",
    "data_train.columns"
   ]
  },
  {
   "cell_type": "code",
   "execution_count": 302,
   "metadata": {},
   "outputs": [
    {
     "data": {
      "text/plain": [
       "(319, 35)"
      ]
     },
     "execution_count": 302,
     "metadata": {},
     "output_type": "execute_result"
    }
   ],
   "source": [
    "'''from sklearn.neighbors import KNeighborsClassifier, KNeighborsRegressor\n",
    " \n",
    "\n",
    "def knn_missing_filled(x_train, y_train, test, k = 1, dispersed = True):\n",
    "    if dispersed:\n",
    "        clf = KNeighborsClassifier(n_neighbors = k, weights = \"distance\")\n",
    "    else:\n",
    "        clf = KNeighborsRegressor(n_neighbors = k, weights = \"distance\")\n",
    "    \n",
    "    clf.fit(x_train, y_train)\n",
    "    return clf.predict(test)\n",
    "\n",
    "\n",
    "df=data_train[['9遮蔽潮間帶', '海岸段','Region', 'Seat', 'Shore shape', 'Substrate type']]\n",
    "known=df[df['9遮蔽潮間帶'].notnull()].values\n",
    "unknown=df[df['9遮蔽潮間帶'].isnull()].values   \n",
    "y=known[:,0]\n",
    "x=known[:,1:]\n",
    "z=unknown[:,1:]    \n",
    "los=knn_missing_filled(x,y,z)    \n",
    "data_train.loc[(data_train['9遮蔽潮間帶'].isnull()),'9遮蔽潮間帶']=los\n",
    "data_train.to_csv(\"data_train.csv\",index=False,encoding='big5')\n",
    "data_train.shape'''"
   ]
  },
  {
   "cell_type": "code",
   "execution_count": 326,
   "metadata": {},
   "outputs": [],
   "source": [
    "X_train=data_train[['海岸段','Region','Seat','Shore shape','Substrate type', '1暴露岩岸', '2暴露人造結構物',\n",
    "       '3暴露岩盤', '4沙灘', '5砂礫混合灘', '6礫石灘', '7開闊潮間帶', '8遮蔽岩岸', '9遮蔽潮間帶', '10遮蔽濕地'\n",
    "             ,'Plastic bottle container',\n",
    "              'Disposable cup / straw / tableware',\n",
    "              'Plastic bag'\n",
    "              ,'Foam material'\n",
    "              ,'Float'\n",
    "              ,'Fishing nets and ropes'                \n",
    "              ,'Fishing equipment'                    \n",
    "              ,'Cigarette and lighter'                 \n",
    "              ,'Glass jar'                      \n",
    "              ,'Metal'                                \n",
    "              ,'Paper'                               \n",
    "              ,'Others']]\n",
    "y_train=data_train[['LEVEL']]"
   ]
  },
  {
   "cell_type": "code",
   "execution_count": 327,
   "metadata": {},
   "outputs": [
    {
     "data": {
      "text/plain": [
       "XGBClassifier(base_score=0.5, booster='gbtree', colsample_bylevel=1,\n",
       "              colsample_bynode=1, colsample_bytree=1, gamma=0,\n",
       "              learning_rate=0.1, max_delta_step=0, max_depth=3,\n",
       "              min_child_weight=1, missing=None, n_estimators=100, n_jobs=1,\n",
       "              nthread=None, objective='multi:softprob', random_state=0,\n",
       "              reg_alpha=0, reg_lambda=1, scale_pos_weight=1, seed=None,\n",
       "              silent=None, subsample=1, verbosity=1)"
      ]
     },
     "execution_count": 327,
     "metadata": {},
     "output_type": "execute_result"
    }
   ],
   "source": [
    "from xgboost import XGBClassifier\n",
    "xgbc=XGBClassifier()\n",
    "xgbc.fit(X_train,y_train,validation_data=(X_test,y_test))"
   ]
  },
  {
   "cell_type": "code",
   "execution_count": 328,
   "metadata": {},
   "outputs": [
    {
     "data": {
      "text/plain": [
       "(163, 34)"
      ]
     },
     "execution_count": 328,
     "metadata": {},
     "output_type": "execute_result"
    }
   ],
   "source": [
    "data_test=pd.read_csv(\"data_test.csv\",encoding='big5')\n",
    "data_test.shape"
   ]
  },
  {
   "cell_type": "code",
   "execution_count": 315,
   "metadata": {},
   "outputs": [
    {
     "data": {
      "text/plain": [
       "(163, 34)"
      ]
     },
     "execution_count": 315,
     "metadata": {},
     "output_type": "execute_result"
    }
   ],
   "source": [
    "'''from sklearn.neighbors import KNeighborsClassifier, KNeighborsRegressor\n",
    " \n",
    "\n",
    "def knn_missing_filled(x_train, y_train, test, k = 1, dispersed = True):\n",
    "    if dispersed:\n",
    "        clf = KNeighborsClassifier(n_neighbors = k, weights = \"distance\")\n",
    "    else:\n",
    "        clf = KNeighborsRegressor(n_neighbors = k, weights = \"distance\")\n",
    "    \n",
    "    clf.fit(x_train, y_train)\n",
    "    return clf.predict(test)\n",
    "\n",
    "\n",
    "df=data_test[['9遮蔽潮間帶', '海岸段','Region', 'Seat', 'Shore shape', 'Substrate type']]\n",
    "known=df[df['9遮蔽潮間帶'].notnull()].values\n",
    "unknown=df[df['9遮蔽潮間帶'].isnull()].values   \n",
    "y=known[:,0]\n",
    "x=known[:,1:]\n",
    "z=unknown[:,1:]    \n",
    "los=knn_missing_filled(x,y,z)    \n",
    "data_test.loc[(data_test['9遮蔽潮間帶'].isnull()),'9遮蔽潮間帶']=los\n",
    "data_test.to_csv(\"data_test.csv\",index=False,encoding='big5')\n",
    "data_test.shape'''"
   ]
  },
  {
   "cell_type": "code",
   "execution_count": null,
   "metadata": {},
   "outputs": [],
   "source": [
    "#def normalize(df):\n",
    "    #newdf=df.copy()\n",
    "    #min_max_scaler=preprocessing.MinMaxScaler()\n",
    "    \n",
    "    #newdf['Lat']=min_max_scaler.fit_transform(df['Lat'].values.reshape(-1,1))\n",
    "    #return newdf\n",
    "#data_test=normalize(data_test)"
   ]
  },
  {
   "cell_type": "code",
   "execution_count": 329,
   "metadata": {},
   "outputs": [],
   "source": [
    "X_test=data_test[['海岸段','Region','Seat','Shore shape','Substrate type', '1暴露岩岸', '2暴露人造結構物',\n",
    "       '3暴露岩盤', '4沙灘', '5砂礫混合灘', '6礫石灘', '7開闊潮間帶', '8遮蔽岩岸', '9遮蔽潮間帶', '10遮蔽濕地'\n",
    "             ,'Plastic bottle container',\n",
    "              'Disposable cup / straw / tableware',\n",
    "              'Plastic bag'\n",
    "              ,'Foam material'\n",
    "              ,'Float'\n",
    "              ,'Fishing nets and ropes'                \n",
    "              ,'Fishing equipment'                    \n",
    "              ,'Cigarette and lighter'                 \n",
    "              ,'Glass jar'                      \n",
    "              ,'Metal'                                \n",
    "              ,'Paper'                               \n",
    "              ,'Others']]"
   ]
  },
  {
   "cell_type": "code",
   "execution_count": 330,
   "metadata": {},
   "outputs": [],
   "source": [
    "from sklearn.metrics import accuracy_score\n",
    "predict=xgbc.predict(X_test)\n",
    "dfout=pd.DataFrame(predict)\n",
    "dfout.to_csv('predict2.csv')"
   ]
  },
  {
   "cell_type": "code",
   "execution_count": null,
   "metadata": {},
   "outputs": [],
   "source": []
  }
 ],
 "metadata": {
  "kernelspec": {
   "display_name": "Python 3",
   "language": "python",
   "name": "python3"
  },
  "language_info": {
   "codemirror_mode": {
    "name": "ipython",
    "version": 3
   },
   "file_extension": ".py",
   "mimetype": "text/x-python",
   "name": "python",
   "nbconvert_exporter": "python",
   "pygments_lexer": "ipython3",
   "version": "3.7.3"
  }
 },
 "nbformat": 4,
 "nbformat_minor": 2
}
